{
 "cells": [
  {
   "cell_type": "code",
   "execution_count": 5,
   "id": "342fce4e",
   "metadata": {},
   "outputs": [
    {
     "data": {
      "text/html": [
       "<div>\n",
       "<style scoped>\n",
       "    .dataframe tbody tr th:only-of-type {\n",
       "        vertical-align: middle;\n",
       "    }\n",
       "\n",
       "    .dataframe tbody tr th {\n",
       "        vertical-align: top;\n",
       "    }\n",
       "\n",
       "    .dataframe thead th {\n",
       "        text-align: right;\n",
       "    }\n",
       "</style>\n",
       "<table border=\"1\" class=\"dataframe\">\n",
       "  <thead>\n",
       "    <tr style=\"text-align: right;\">\n",
       "      <th></th>\n",
       "      <th>Unnamed: 0</th>\n",
       "      <th>work_year</th>\n",
       "      <th>experience_level</th>\n",
       "      <th>employment_type</th>\n",
       "      <th>job_title</th>\n",
       "      <th>...</th>\n",
       "      <th>salary_in_usd</th>\n",
       "      <th>employee_residence</th>\n",
       "      <th>remote_ratio</th>\n",
       "      <th>company_location</th>\n",
       "      <th>company_size</th>\n",
       "    </tr>\n",
       "  </thead>\n",
       "  <tbody>\n",
       "    <tr>\n",
       "      <th>0</th>\n",
       "      <td>0</td>\n",
       "      <td>2020</td>\n",
       "      <td>MI</td>\n",
       "      <td>FT</td>\n",
       "      <td>Data Scientist</td>\n",
       "      <td>...</td>\n",
       "      <td>79833</td>\n",
       "      <td>DE</td>\n",
       "      <td>0</td>\n",
       "      <td>DE</td>\n",
       "      <td>L</td>\n",
       "    </tr>\n",
       "    <tr>\n",
       "      <th>1</th>\n",
       "      <td>1</td>\n",
       "      <td>2020</td>\n",
       "      <td>SE</td>\n",
       "      <td>FT</td>\n",
       "      <td>Machine Learning Scientist</td>\n",
       "      <td>...</td>\n",
       "      <td>260000</td>\n",
       "      <td>JP</td>\n",
       "      <td>0</td>\n",
       "      <td>JP</td>\n",
       "      <td>S</td>\n",
       "    </tr>\n",
       "    <tr>\n",
       "      <th>2</th>\n",
       "      <td>2</td>\n",
       "      <td>2020</td>\n",
       "      <td>SE</td>\n",
       "      <td>FT</td>\n",
       "      <td>Big Data Engineer</td>\n",
       "      <td>...</td>\n",
       "      <td>109024</td>\n",
       "      <td>GB</td>\n",
       "      <td>50</td>\n",
       "      <td>GB</td>\n",
       "      <td>M</td>\n",
       "    </tr>\n",
       "    <tr>\n",
       "      <th>3</th>\n",
       "      <td>3</td>\n",
       "      <td>2020</td>\n",
       "      <td>MI</td>\n",
       "      <td>FT</td>\n",
       "      <td>Product Data Analyst</td>\n",
       "      <td>...</td>\n",
       "      <td>20000</td>\n",
       "      <td>HN</td>\n",
       "      <td>0</td>\n",
       "      <td>HN</td>\n",
       "      <td>S</td>\n",
       "    </tr>\n",
       "    <tr>\n",
       "      <th>4</th>\n",
       "      <td>4</td>\n",
       "      <td>2020</td>\n",
       "      <td>SE</td>\n",
       "      <td>FT</td>\n",
       "      <td>Machine Learning Engineer</td>\n",
       "      <td>...</td>\n",
       "      <td>150000</td>\n",
       "      <td>US</td>\n",
       "      <td>50</td>\n",
       "      <td>US</td>\n",
       "      <td>L</td>\n",
       "    </tr>\n",
       "    <tr>\n",
       "      <th>...</th>\n",
       "      <td>...</td>\n",
       "      <td>...</td>\n",
       "      <td>...</td>\n",
       "      <td>...</td>\n",
       "      <td>...</td>\n",
       "      <td>...</td>\n",
       "      <td>...</td>\n",
       "      <td>...</td>\n",
       "      <td>...</td>\n",
       "      <td>...</td>\n",
       "      <td>...</td>\n",
       "    </tr>\n",
       "    <tr>\n",
       "      <th>602</th>\n",
       "      <td>602</td>\n",
       "      <td>2022</td>\n",
       "      <td>SE</td>\n",
       "      <td>FT</td>\n",
       "      <td>Data Engineer</td>\n",
       "      <td>...</td>\n",
       "      <td>154000</td>\n",
       "      <td>US</td>\n",
       "      <td>100</td>\n",
       "      <td>US</td>\n",
       "      <td>M</td>\n",
       "    </tr>\n",
       "    <tr>\n",
       "      <th>603</th>\n",
       "      <td>603</td>\n",
       "      <td>2022</td>\n",
       "      <td>SE</td>\n",
       "      <td>FT</td>\n",
       "      <td>Data Engineer</td>\n",
       "      <td>...</td>\n",
       "      <td>126000</td>\n",
       "      <td>US</td>\n",
       "      <td>100</td>\n",
       "      <td>US</td>\n",
       "      <td>M</td>\n",
       "    </tr>\n",
       "    <tr>\n",
       "      <th>604</th>\n",
       "      <td>604</td>\n",
       "      <td>2022</td>\n",
       "      <td>SE</td>\n",
       "      <td>FT</td>\n",
       "      <td>Data Analyst</td>\n",
       "      <td>...</td>\n",
       "      <td>129000</td>\n",
       "      <td>US</td>\n",
       "      <td>0</td>\n",
       "      <td>US</td>\n",
       "      <td>M</td>\n",
       "    </tr>\n",
       "    <tr>\n",
       "      <th>605</th>\n",
       "      <td>605</td>\n",
       "      <td>2022</td>\n",
       "      <td>SE</td>\n",
       "      <td>FT</td>\n",
       "      <td>Data Analyst</td>\n",
       "      <td>...</td>\n",
       "      <td>150000</td>\n",
       "      <td>US</td>\n",
       "      <td>100</td>\n",
       "      <td>US</td>\n",
       "      <td>M</td>\n",
       "    </tr>\n",
       "    <tr>\n",
       "      <th>606</th>\n",
       "      <td>606</td>\n",
       "      <td>2022</td>\n",
       "      <td>MI</td>\n",
       "      <td>FT</td>\n",
       "      <td>AI Scientist</td>\n",
       "      <td>...</td>\n",
       "      <td>200000</td>\n",
       "      <td>IN</td>\n",
       "      <td>100</td>\n",
       "      <td>US</td>\n",
       "      <td>L</td>\n",
       "    </tr>\n",
       "  </tbody>\n",
       "</table>\n",
       "<p>607 rows × 12 columns</p>\n",
       "</div>"
      ],
      "text/plain": [
       "     Unnamed: 0  work_year experience_level employment_type  \\\n",
       "0             0       2020               MI              FT   \n",
       "1             1       2020               SE              FT   \n",
       "2             2       2020               SE              FT   \n",
       "3             3       2020               MI              FT   \n",
       "4             4       2020               SE              FT   \n",
       "..          ...        ...              ...             ...   \n",
       "602         602       2022               SE              FT   \n",
       "603         603       2022               SE              FT   \n",
       "604         604       2022               SE              FT   \n",
       "605         605       2022               SE              FT   \n",
       "606         606       2022               MI              FT   \n",
       "\n",
       "                      job_title  ...  salary_in_usd employee_residence  \\\n",
       "0                Data Scientist  ...          79833                 DE   \n",
       "1    Machine Learning Scientist  ...         260000                 JP   \n",
       "2             Big Data Engineer  ...         109024                 GB   \n",
       "3          Product Data Analyst  ...          20000                 HN   \n",
       "4     Machine Learning Engineer  ...         150000                 US   \n",
       "..                          ...  ...            ...                ...   \n",
       "602               Data Engineer  ...         154000                 US   \n",
       "603               Data Engineer  ...         126000                 US   \n",
       "604                Data Analyst  ...         129000                 US   \n",
       "605                Data Analyst  ...         150000                 US   \n",
       "606                AI Scientist  ...         200000                 IN   \n",
       "\n",
       "     remote_ratio company_location  company_size  \n",
       "0               0               DE             L  \n",
       "1               0               JP             S  \n",
       "2              50               GB             M  \n",
       "3               0               HN             S  \n",
       "4              50               US             L  \n",
       "..            ...              ...           ...  \n",
       "602           100               US             M  \n",
       "603           100               US             M  \n",
       "604             0               US             M  \n",
       "605           100               US             M  \n",
       "606           100               US             L  \n",
       "\n",
       "[607 rows x 12 columns]"
      ]
     },
     "execution_count": 5,
     "metadata": {},
     "output_type": "execute_result"
    }
   ],
   "source": [
    "import pandas\n",
    "import seaborn as sns\n",
    "import matplotlib.pyplot as plt\n",
    "\n",
    "pandas.options.display.max_columns = 10\n",
    "pandas.options.display.max_rows = 10\n",
    "\n",
    "ds_salary_data = pandas.read_csv(\"ds_salaries.csv\")\n",
    "\n",
    "ds_salary_data"
   ]
  },
  {
   "cell_type": "code",
   "execution_count": 4,
   "id": "0ec498f0",
   "metadata": {},
   "outputs": [
    {
     "name": "stdout",
     "output_type": "stream",
     "text": [
      "avg salary for entry level experience:   61643.318181818184\n",
      "avg salary for mid level experience:   87996.05633802817\n",
      "avg salary for intermediate level experience:   138617.29285714286\n",
      "avg salary for expert level experience:   199392.03846153847\n"
     ]
    }
   ],
   "source": [
    " # 1 | Do careers have a higher salary if you have more experience?\n",
    "\n",
    "avg_entry = ds_salary_data[ds_salary_data['experience_level'] == 'EN']['salary_in_usd'].mean()\n",
    "avg_junior = ds_salary_data[ds_salary_data['experience_level'] == 'MI']['salary_in_usd'].mean()\n",
    "avg_senior = ds_salary_data[ds_salary_data['experience_level'] == 'SE']['salary_in_usd'].mean()\n",
    "avg_expert = ds_salary_data[ds_salary_data['experience_level'] == 'EX']['salary_in_usd'].mean()\n",
    "\n",
    "print(\"avg salary for entry level experience:  \", avg_entry)\n",
    "print(\"avg salary for mid level experience:  \", avg_junior)\n",
    "print(\"avg salary for intermediate level experience:  \", avg_senior)\n",
    "print(\"avg salary for expert level experience:  \", avg_expert)\n"
   ]
  },
  {
   "cell_type": "code",
   "execution_count": 8,
   "id": "0d13c6a6",
   "metadata": {},
   "outputs": [
    {
     "name": "stdout",
     "output_type": "stream",
     "text": [
      "avg salary in United States:  144055.26197183097\n",
      "avg salary in Japan:  114127.33333333333\n",
      "avg salary in France:  63970.666666666664\n",
      "avg salary in Germany:  81887.21428571429\n",
      "avg salary in United Kingdom:  81583.0425531915\n"
     ]
    }
   ],
   "source": [
    "# 2 | Which countries have the highest salaries?\n",
    "\n",
    "avg_us_salary = ds_salary_data[ds_salary_data['company_location'] == 'US']['salary_in_usd'].mean()\n",
    "avg_jp_salary = ds_salary_data[ds_salary_data['company_location'] == 'JP']['salary_in_usd'].mean()\n",
    "avg_fr_salary = ds_salary_data[ds_salary_data['company_location'] == 'FR']['salary_in_usd'].mean()\n",
    "avg_de_salary = ds_salary_data[ds_salary_data['company_location'] == 'DE']['salary_in_usd'].mean()\n",
    "avg_gb_salary = ds_salary_data[ds_salary_data['company_location'] == 'GB']['salary_in_usd'].mean()\n",
    "print(\"avg salary in United States: \", avg_us_salary)\n",
    "print(\"avg salary in Japan: \", avg_jp_salary)\n",
    "print(\"avg salary in France: \", avg_fr_salary)\n",
    "print(\"avg salary in Germany: \", avg_de_salary)\n",
    "print(\"avg salary in United Kingdom: \", avg_gb_salary)"
   ]
  },
  {
   "cell_type": "code",
   "execution_count": 5,
   "id": "6e467314",
   "metadata": {},
   "outputs": [
    {
     "name": "stdout",
     "output_type": "stream",
     "text": [
      "avg remote ratio:  70.92257001647447\n"
     ]
    }
   ],
   "source": [
    "# 3 | Are most jobs remote or in person?\n",
    "\n",
    "remote = ds_salary_data['remote_ratio'].mean()\n",
    "print(\"avg remote ratio: \",remote)"
   ]
  },
  {
   "cell_type": "code",
   "execution_count": 6,
   "id": "ff473222",
   "metadata": {},
   "outputs": [
    {
     "name": "stdout",
     "output_type": "stream",
     "text": [
      "avg salary for data science careers:  112297.86985172982\n"
     ]
    }
   ],
   "source": [
    "# 4 | What is the average salary for data science careers?\n",
    "avg_salary = ds_salary_data['salary_in_usd'].mean()\n",
    "print(\"avg salary for data science careers: \", avg_salary)"
   ]
  },
  {
   "cell_type": "code",
   "execution_count": 9,
   "id": "374ebbcf",
   "metadata": {},
   "outputs": [
    {
     "data": {
      "text/plain": [
       "<AxesSubplot:xlabel='company_size', ylabel='salary_in_usd'>"
      ]
     },
     "execution_count": 9,
     "metadata": {},
     "output_type": "execute_result"
    },
    {
     "data": {
      "image/png": "[encoded data removed]",
      "text/plain": [
       "<Figure size 432x288 with 1 Axes>"
      ]
     },
     "metadata": {
      "needs_background": "light"
     },
     "output_type": "display_data"
    }
   ],
   "source": [
    "# 5 | Do bigger companies have a higher salary on average?\n",
    "\n",
    "sns.barplot(x = ds_salary_data['company_size'], y = ds_salary_data['salary_in_usd'])\n",
    "\n"
   ]
  },
  {
   "cell_type": "code",
   "execution_count": 26,
   "id": "7adf8ea6",
   "metadata": {},
   "outputs": [
    {
     "name": "stdout",
     "output_type": "stream",
     "text": [
      "number of small companies: 83 \n",
      "number of medium companies: 326 \n",
      "number of large companies: 198\n"
     ]
    }
   ],
   "source": [
    "# 6 | How large are data science companies on average?\n",
    "\n",
    "small = ds_salary_data[ds_salary_data['company_size']=='S'].shape[0]\n",
    "med = ds_salary_data[ds_salary_data['company_size']=='M'].shape[0]\n",
    "large = ds_salary_data[ds_salary_data['company_size']=='L'].shape[0]\n",
    "print(\"number of small companies:\", small, \"\\nnumber of medium companies:\", med, \"\\nnumber of large companies:\", large)"
   ]
  },
  {
   "cell_type": "code",
   "execution_count": null,
   "id": "309157e5",
   "metadata": {},
   "outputs": [],
   "source": [
    "# 7 | Does experience level affect the size of the company that you work at?\n"
   ]
  }
 ],
 "metadata": {
  "kernelspec": {
   "display_name": "Python 3 (ipykernel)",
   "language": "python",
   "name": "python3"
  },
  "language_info": {
   "codemirror_mode": {
    "name": "ipython",
    "version": 3
   },
   "file_extension": ".py",
   "mimetype": "text/x-python",
   "name": "python",
   "nbconvert_exporter": "python",
   "pygments_lexer": "ipython3",
   "version": "3.10.5"
  },
  "vscode": {
   "interpreter": {
    "hash": "190844f8e09eb70461d48dd66ae5988591be8a5519e7c44cb82149b90b005f96"
   }
  }
 },
 "nbformat": 4,
 "nbformat_minor": 5
}
